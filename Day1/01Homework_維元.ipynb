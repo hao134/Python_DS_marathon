{
  "nbformat": 4,
  "nbformat_minor": 0,
  "metadata": {
    "colab": {
      "name": "01Homework_維元.ipynb",
      "provenance": []
    },
    "kernelspec": {
      "display_name": "Python 3",
      "language": "python",
      "name": "python3"
    },
    "language_info": {
      "codemirror_mode": {
        "name": "ipython",
        "version": 3
      },
      "file_extension": ".py",
      "mimetype": "text/x-python",
      "name": "python",
      "nbconvert_exporter": "python",
      "pygments_lexer": "ipython3",
      "version": "3.6.5"
    }
  },
  "cells": [
    {
      "cell_type": "markdown",
      "metadata": {
        "id": "P6xk2_jLsvFF"
      },
      "source": [
        "# [作業目標]\n",
        "\n",
        "1. [簡答題] 請問下列兩種將 Array 轉換成 List 的方式有何不同？\n",
        "\n",
        "```\n",
        "print('list(a): ', list(a))\n",
        "print('tolist(): ', a.tolist())\n",
        "```\n",
        "\n",
        "2. 請試著在程式中印出以下三個 NdArray 的屬性？（屬性：ndim、shape、size、dtype、itemsize、length、type）\n",
        "\n",
        "```\n",
        "a = np.random.randint(10, size=6) \n",
        "b = np.random.randint(10, size=(3,4)) \n",
        "c = np.random.randint(10, size=(2,3,2)) \n",
        "```\n",
        "\n",
        "3. 如何利用 list(...) 實現 a.tolist() 的效果？試著用程式實作。\n"
      ]
    },
    {
      "cell_type": "markdown",
      "metadata": {
        "id": "uXGll28asvFS"
      },
      "source": [
        "# 作業 "
      ]
    },
    {
      "cell_type": "markdown",
      "metadata": {
        "id": "SYkvkp9YLwB7"
      },
      "source": [
        "### 1. [簡答題] 請問下列兩種將 Array 轉換成 List 的方式有何不同？\n",
        "\n",
        "```\n",
        "print('list(a): ', list(a))\n",
        "print('tolist(): ', a.tolist())\n",
        "```\n"
      ]
    },
    {
      "cell_type": "markdown",
      "metadata": {
        "id": "0-5NgBIR7L-b"
      },
      "source": [
        "https://stackoverflow.com/questions/27890735/difference-between-listnumpy-array-and-numpy-array-tolist"
      ]
    },
    {
      "cell_type": "markdown",
      "metadata": {
        "id": "AC9wUCyALwB9"
      },
      "source": [
        "### 2. 請試著在程式中印出以下三個 NdArray 的屬性並且解釋結果？（屬性：ndim、shape、size、dtype、itemsize、length、type）\n",
        "\n",
        "```\n",
        "a = np.random.randint(10, size=6) \n",
        "b = np.random.randint(10, size=(3,4)) \n",
        "c = np.random.randint(10, size=(2,3,2)) \n",
        "```"
      ]
    },
    {
      "cell_type": "code",
      "metadata": {
        "id": "4qARRsdtLwB-"
      },
      "source": [
        "# 記得先 Import 正確的套件\n",
        "\n",
        "'''\n",
        "Your Code\n",
        "'''\n",
        "import numpy as np"
      ],
      "execution_count": 1,
      "outputs": []
    },
    {
      "cell_type": "code",
      "metadata": {
        "id": "e1gVI0tvsvFY",
        "colab": {
          "base_uri": "https://localhost:8080/"
        },
        "outputId": "95e007a0-872c-42fb-a9ae-8e12af852b2c"
      },
      "source": [
        "\n",
        "a = np.random.randint(10, size=6) \n",
        "print(a)\n",
        "print(a.ndim)\n",
        "print(a.shape)\n",
        "print(a.size)\n",
        "print(a.dtype)\n",
        "print(a.itemsize)\n",
        "print(len(a))\n",
        "print(type(a))"
      ],
      "execution_count": 4,
      "outputs": [
        {
          "output_type": "stream",
          "text": [
            "[7 0 6 9 9 1]\n",
            "1\n",
            "(6,)\n",
            "6\n",
            "int64\n",
            "8\n",
            "6\n",
            "<class 'numpy.ndarray'>\n"
          ],
          "name": "stdout"
        }
      ]
    },
    {
      "cell_type": "code",
      "metadata": {
        "id": "iIJrIr7kLwB_",
        "colab": {
          "base_uri": "https://localhost:8080/"
        },
        "outputId": "53a396af-d231-46a6-d09c-6192ce2de5fa"
      },
      "source": [
        "b = np.random.randint(10, size=(3,4)) \n",
        "print(b)\n",
        "print(b.ndim)\n",
        "print(b.shape)\n",
        "print(b.size)\n",
        "print(b.dtype)\n",
        "print(b.itemsize)\n",
        "print(len(b))\n",
        "print(type(b))"
      ],
      "execution_count": 5,
      "outputs": [
        {
          "output_type": "stream",
          "text": [
            "[[2 8 0 5]\n",
            " [1 9 4 5]\n",
            " [1 5 1 6]]\n",
            "2\n",
            "(3, 4)\n",
            "12\n",
            "int64\n",
            "8\n",
            "3\n",
            "<class 'numpy.ndarray'>\n"
          ],
          "name": "stdout"
        }
      ]
    },
    {
      "cell_type": "code",
      "metadata": {
        "id": "98SRFh_FLwCC",
        "colab": {
          "base_uri": "https://localhost:8080/"
        },
        "outputId": "9016a19f-8081-47cc-f636-cfdb08abc93a"
      },
      "source": [
        "c = np.random.randint(10, size=(2,3,2)) \n",
        "print(c)\n",
        "print(c.ndim)\n",
        "print(c.shape)\n",
        "print(c.size)\n",
        "print(c.dtype)\n",
        "print(c.itemsize)\n",
        "print(len(c))\n",
        "print(type(c))"
      ],
      "execution_count": 6,
      "outputs": [
        {
          "output_type": "stream",
          "text": [
            "[[[5 6]\n",
            "  [0 0]\n",
            "  [9 1]]\n",
            "\n",
            " [[7 6]\n",
            "  [3 3]\n",
            "  [6 6]]]\n",
            "3\n",
            "(2, 3, 2)\n",
            "12\n",
            "int64\n",
            "8\n",
            "2\n",
            "<class 'numpy.ndarray'>\n"
          ],
          "name": "stdout"
        }
      ]
    },
    {
      "cell_type": "markdown",
      "metadata": {
        "id": "Uf6zC0QZLwCE"
      },
      "source": [
        "### 3. 如何利用 list(...) 實現 a.tolist() 的效果？試著用程式實作。\n"
      ]
    },
    {
      "cell_type": "code",
      "metadata": {
        "id": "sCUzHu_BLwCF",
        "colab": {
          "base_uri": "https://localhost:8080/"
        },
        "outputId": "a70029a2-46a7-4e7d-bab5-eb1b9dc24462"
      },
      "source": [
        "a = np.random.randint(10, size=6) \n",
        "\n",
        "print(a.tolist())\n",
        "print(list(a))\n"
      ],
      "execution_count": 7,
      "outputs": [
        {
          "output_type": "stream",
          "text": [
            "[2, 9, 5, 9, 8, 0]\n",
            "[2, 9, 5, 9, 8, 0]\n"
          ],
          "name": "stdout"
        }
      ]
    },
    {
      "cell_type": "code",
      "metadata": {
        "id": "IUkVtw8RLwCG",
        "colab": {
          "base_uri": "https://localhost:8080/"
        },
        "outputId": "916158a7-7523-4738-8b2b-27224b1cfc64"
      },
      "source": [
        "b = np.random.randint(10, size=(3,4)) \n",
        "\n",
        "print(b.tolist())\n",
        "print(list(b))\n"
      ],
      "execution_count": 8,
      "outputs": [
        {
          "output_type": "stream",
          "text": [
            "[[2, 8, 0, 6], [0, 1, 1, 7], [9, 8, 1, 1]]\n",
            "[array([2, 8, 0, 6]), array([0, 1, 1, 7]), array([9, 8, 1, 1])]\n"
          ],
          "name": "stdout"
        }
      ]
    },
    {
      "cell_type": "code",
      "metadata": {
        "id": "NPhF8_CqLwCG",
        "colab": {
          "base_uri": "https://localhost:8080/"
        },
        "outputId": "32e7bbd5-08d2-43ab-ae20-d0ab3ab3480c"
      },
      "source": [
        "c = np.random.randint(10, size=(2,3,2)) \n",
        "\n",
        "print(c.tolist())\n",
        "print(list(c))\n"
      ],
      "execution_count": 9,
      "outputs": [
        {
          "output_type": "stream",
          "text": [
            "[[[3, 9], [7, 4], [8, 9]], [[8, 8], [7, 7], [9, 1]]]\n",
            "[array([[3, 9],\n",
            "       [7, 4],\n",
            "       [8, 9]]), array([[8, 8],\n",
            "       [7, 7],\n",
            "       [9, 1]])]\n"
          ],
          "name": "stdout"
        }
      ]
    },
    {
      "cell_type": "code",
      "metadata": {
        "id": "3Hc8vQYtLwCH",
        "colab": {
          "base_uri": "https://localhost:8080/"
        },
        "outputId": "56adf7c1-98c8-415c-a82e-b8373d5c4bef"
      },
      "source": [
        "def tolist(iterable):\n",
        "  if type(iterable) != np.ndarray:\n",
        "    return iterable\n",
        "  newlist = []\n",
        "  for obj in iterable:\n",
        "    newlist.append(tolist(obj))\n",
        "  return list(newlist)\n",
        "\n",
        "print(tolist(a))\n",
        "print(tolist(b))\n",
        "print(tolist(c))"
      ],
      "execution_count": 11,
      "outputs": [
        {
          "output_type": "stream",
          "text": [
            "[2, 9, 5, 9, 8, 0]\n",
            "[[2, 8, 0, 6], [0, 1, 1, 7], [9, 8, 1, 1]]\n",
            "[[[3, 9], [7, 4], [8, 9]], [[8, 8], [7, 7], [9, 1]]]\n"
          ],
          "name": "stdout"
        }
      ]
    },
    {
      "cell_type": "code",
      "metadata": {
        "id": "2lDVOwFpLwCJ",
        "outputId": "ddfa84e4-3d32-4a68-c250-f57b2f66d830"
      },
      "source": [
        ""
      ],
      "execution_count": null,
      "outputs": [
        {
          "output_type": "stream",
          "text": [
            "[7, 6, 7, 3, 7, 5]\n",
            "[[5, 7, 4, 6], [9, 4, 0, 1], [9, 1, 2, 9]]\n",
            "[[[0, 4], [0, 1], [9, 5]], [[8, 7], [8, 2], [6, 0]]]\n"
          ],
          "name": "stdout"
        }
      ]
    },
    {
      "cell_type": "code",
      "metadata": {
        "id": "tvqCpuFILwCK"
      },
      "source": [
        ""
      ],
      "execution_count": null,
      "outputs": []
    },
    {
      "cell_type": "code",
      "metadata": {
        "id": "640whg6NLwCK"
      },
      "source": [
        ""
      ],
      "execution_count": null,
      "outputs": []
    }
  ]
}